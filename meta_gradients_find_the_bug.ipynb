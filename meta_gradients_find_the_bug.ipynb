{
 "cells": [
  {
   "cell_type": "markdown",
   "metadata": {
    "id": "gD4myBDK2bC9"
   },
   "source": [
    "# Toy example - Meta gradients"
   ]
  },
  {
   "cell_type": "markdown",
   "metadata": {
    "id": "1xyxddmruk1l"
   },
   "source": [
    "## Meta gradients\n"
   ]
  },
  {
   "cell_type": "code",
   "execution_count": null,
   "metadata": {
    "colab": {
     "base_uri": "https://localhost:8080/",
     "height": 562
    },
    "id": "56fW98iOkPUk",
    "outputId": "bc6addfa-889c-4952-8c2e-d5a27059f669"
   },
   "outputs": [
    {
     "name": "stdout",
     "output_type": "stream",
     "text": [
      "tensor(12217.8701, grad_fn=<MeanBackward0>)\n",
      "tensor(12164.9785, grad_fn=<MeanBackward0>)\n",
      "tensor(11905.3457, grad_fn=<MeanBackward0>)\n",
      "tensor(11940.8613, grad_fn=<MeanBackward0>)\n",
      "tensor(12211.4014, grad_fn=<MeanBackward0>)\n",
      "tensor(12296.6504, grad_fn=<MeanBackward0>)\n",
      "tensor(12389.2939, grad_fn=<MeanBackward0>)\n",
      "tensor(12155.3818, grad_fn=<MeanBackward0>)\n",
      "tensor(12229.4502, grad_fn=<MeanBackward0>)\n",
      "tensor(12267.9189, grad_fn=<MeanBackward0>)\n",
      "tensor(11949.0654, grad_fn=<MeanBackward0>)\n",
      "tensor(12169.7158, grad_fn=<MeanBackward0>)\n",
      "tensor(12515.7949, grad_fn=<MeanBackward0>)\n",
      "tensor(11909.0430, grad_fn=<MeanBackward0>)\n",
      "tensor(11927.2168, grad_fn=<MeanBackward0>)\n",
      "tensor(12284.4326, grad_fn=<MeanBackward0>)\n",
      "tensor(12222.9688, grad_fn=<MeanBackward0>)\n",
      "tensor(12187.2285, grad_fn=<MeanBackward0>)\n",
      "tensor(11988.4248, grad_fn=<MeanBackward0>)\n",
      "tensor(12101.4980, grad_fn=<MeanBackward0>)\n",
      "tensor(12283.7891, grad_fn=<MeanBackward0>)\n",
      "tensor(12086.7539, grad_fn=<MeanBackward0>)\n",
      "tensor(12090.1182, grad_fn=<MeanBackward0>)\n",
      "tensor(12257.7520, grad_fn=<MeanBackward0>)\n"
     ]
    }
   ],
   "source": [
    "\"\"\"\n",
    "when computing the loss, we will randomly add the term - meta_parameter * torch.rand(1)\n",
    "\n",
    "The initial value for the meta_parameter is -100 but we make it a trainable parmeter.\n",
    "\n",
    "The meta gradient should learn that in order to keep decreasing the loss function,\n",
    "meta_parameter should be 0.0.3 \n",
    "\"\"\"\n",
    "\n",
    "# Imports\n",
    "import random\n",
    "import numpy as np\n",
    "import torch\n",
    "import torch.nn as nn\n",
    "import torch.nn.functional as F\n",
    "import torch.optim as optim\n",
    "import matplotlib.pyplot as plt\n",
    "\n",
    "\n",
    "def get_targets(x):\n",
    "    \"\"\"Random function to learn.\"\"\"\n",
    "    return (10 + x ** 2).sum(axis=-1)\n",
    "\n",
    "# Theta\n",
    "model = nn.Sequential(\n",
    "    nn.Linear(10, 10),\n",
    "    nn.ReLU(),\n",
    "    nn.Linear(10, 10),\n",
    "    nn.ReLU(),\n",
    "    nn.Linear(10, 1))\n",
    "\n",
    "meta_model = nn.Sequential(\n",
    "    nn.Linear(10, 10),\n",
    "    nn.ReLU(),\n",
    "    nn.Linear(10, 10),\n",
    "    nn.ReLU(),\n",
    "    nn.Linear(10, 1))\n",
    "\n",
    "#meta_parameter = torch.tensor(data=[-100], dtype=torch.float32, requires_grad=True)\n",
    "\n",
    "criterion = nn.MSELoss(reduction='none')\n",
    "meta_opt = optim.Adam(meta_model.parameters(), lr=5e-1)\n",
    "opt  = optim.Adam(model.parameters(), lr=1e-4)\n",
    "loss_data = []\n",
    "meta_paramater_data = []\n",
    "\n",
    "for e in range(50000):\n",
    "    \n",
    "    # Get data\n",
    "    x = torch.randn(32, 10)\n",
    "    \n",
    "    # Get Targets\n",
    "    y = get_targets(x)\n",
    "  \n",
    "    # Predict targets with model - forward pass\n",
    "    output = model(x)\n",
    "    \n",
    "    # Compute loss\n",
    "    loss = criterion(output.squeeze(1), meta_model(x).squeeze(1)).mean()\n",
    "    loss_data.append(loss.item())\n",
    "\n",
    "    # Clearn grads from previous iteration in both optimizers\n",
    "    opt.zero_grad()\n",
    "    meta_opt.zero_grad()\n",
    "\n",
    "    # Backward pass\n",
    "    loss.backward()\n",
    "    opt.step() # theta' = theta + f(weights)\n",
    "\n",
    "    # Meta forward pass\n",
    "    output = model(x) # y = model(theta', x)\n",
    "\n",
    "    # Meta loss - which loss is correct here? should this one as only accounts for normal loss\n",
    "    meta_loss = criterion(output.squeeze(1), y).mean()\n",
    "    if e % 1000 == 0:\n",
    "        print(meta_loss)\n",
    "\n",
    "    # Meta backward pass  \n",
    "    meta_loss.backward()\n",
    "    meta_opt.step()\n",
    "    #meta_paramater_data.append(meta_parameter.item())\n",
    "  \n",
    "# Plot loss\n",
    "plt.figure()\n",
    "plt.plot(loss_data)\n",
    "plt.title(\"Loss\")\n",
    "plt.figure()\n",
    "plt.plot(meta_paramater_data)\n",
    "plt.title(\"Meta parameter\")"
   ]
  },
  {
   "cell_type": "code",
   "execution_count": null,
   "metadata": {
    "id": "uduCcGuj02VU"
   },
   "outputs": [],
   "source": []
  },
  {
   "cell_type": "code",
   "execution_count": null,
   "metadata": {},
   "outputs": [],
   "source": []
  }
 ],
 "metadata": {
  "colab": {
   "collapsed_sections": [],
   "name": "meta_gradients.ipynb",
   "provenance": []
  },
  "kernelspec": {
   "display_name": "Python 3",
   "language": "python",
   "name": "python3"
  },
  "language_info": {
   "codemirror_mode": {
    "name": "ipython",
    "version": 3
   },
   "file_extension": ".py",
   "mimetype": "text/x-python",
   "name": "python",
   "nbconvert_exporter": "python",
   "pygments_lexer": "ipython3",
   "version": "3.6.9"
  }
 },
 "nbformat": 4,
 "nbformat_minor": 1
}
