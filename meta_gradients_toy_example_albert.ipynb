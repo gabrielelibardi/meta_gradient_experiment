{
  "nbformat": 4,
  "nbformat_minor": 0,
  "metadata": {
    "colab": {
      "name": "meta_gradients.ipynb",
      "provenance": [],
      "collapsed_sections": []
    },
    "kernelspec": {
      "name": "python3",
      "display_name": "Python 3"
    },
    "language_info": {
      "name": "python"
    }
  },
  "cells": [
    {
      "cell_type": "markdown",
      "metadata": {
        "id": "gD4myBDK2bC9"
      },
      "source": [
        "# Toy example - Meta gradients"
      ]
    },
    {
      "cell_type": "markdown",
      "metadata": {
        "id": "0OGyOC1Eun5H"
      },
      "source": [
        "## Baseline - trying to minimize a loss function without meta gradients"
      ]
    },
    {
      "cell_type": "code",
      "metadata": {
        "id": "mtIBe0nO2KyS"
      },
      "source": [
        "# Imports\n",
        "import random\n",
        "import numpy as np\n",
        "import torch\n",
        "import torch.nn as nn\n",
        "import torch.nn.functional as F\n",
        "import torch.optim as optim\n",
        "import matplotlib.pyplot as plt\n",
        "\n",
        "\n",
        "def get_targets(x):\n",
        "    \"\"\"Random function to learn.\"\"\"\n",
        "    return (10 + x ** 2).sum(axis=-1)"
      ],
      "execution_count": null,
      "outputs": []
    },
    {
      "cell_type": "code",
      "metadata": {
        "colab": {
          "base_uri": "https://localhost:8080/",
          "height": 298
        },
        "id": "_TqQxZGNkNvI",
        "outputId": "ddf68f27-195b-4466-cd43-17fb5ba31f21"
      },
      "source": [
        "# Fix seeds\n",
        "random.seed(0)\n",
        "np.random.seed(0)\n",
        "torch.manual_seed(0)\n",
        "\n",
        "# Theta\n",
        "model = nn.Sequential(\n",
        "    nn.Linear(10, 10),\n",
        "    nn.ReLU(),\n",
        "    nn.Linear(10, 10),\n",
        "    nn.ReLU(),\n",
        "    nn.Linear(10, 1))\n",
        "\n",
        "# Loss to minimize\n",
        "criterion = nn.MSELoss(reduction='none')\n",
        "\n",
        "# Otimizer\n",
        "opt  = optim.Adam(model.parameters(), lr=1e-4)\n",
        "\n",
        "loss_data = [] # to plot loss values\n",
        "for e in range(10000):\n",
        "    \n",
        "    # Get data\n",
        "    x = torch.randn(64, 10)\n",
        "    \n",
        "    # Get Targets\n",
        "    y = get_targets(x)\n",
        "  \n",
        "    # Predict targets with model - forward pass\n",
        "    output = model(x)\n",
        "    \n",
        "    # Compute loss\n",
        "    loss = criterion(output.squeeze(1), y).mean()\n",
        "    loss_data.append(loss.item())\n",
        "    \n",
        "    # Backward pass\n",
        "    opt.zero_grad()\n",
        "    loss.backward()\n",
        "    opt.step() \n",
        "\n",
        "# Plot loss\n",
        "plt.figure()\n",
        "plt.plot(loss_data)\n",
        "plt.title(\"Loss\")\n"
      ],
      "execution_count": 35,
      "outputs": [
        {
          "output_type": "execute_result",
          "data": {
            "text/plain": [
              "Text(0.5, 1.0, 'Baseline')"
            ]
          },
          "metadata": {
            "tags": []
          },
          "execution_count": 35
        },
        {
          "output_type": "display_data",
          "data": {
            "image/png": "[encoded data removed]",
            "text/plain": [
              "<Figure size 432x288 with 1 Axes>"
            ]
          },
          "metadata": {
            "tags": [],
            "needs_background": "light"
          }
        }
      ]
    },
    {
      "cell_type": "markdown",
      "metadata": {
        "id": "oLSnErVGurWj"
      },
      "source": [
        "## Adding a non learnable meta-parameter"
      ]
    },
    {
      "cell_type": "code",
      "metadata": {
        "colab": {
          "base_uri": "https://localhost:8080/",
          "height": 298
        },
        "id": "EvFdTOseuhiu",
        "outputId": "162c2492-0c9d-47ba-b338-b10fa829408e"
      },
      "source": [
        "\"\"\"\n",
        "when computing the loss, we will randomly add the term - meta_parameter * torch.rand(1)\n",
        "\n",
        "The initial value for the meta_parameter is -100 and we make it a non trainable parmeter.\n",
        "\n",
        "That should prevent the model from learning the function accurately.\n",
        "\"\"\"\n",
        "\n",
        "# Fix seeds\n",
        "random.seed(0)\n",
        "np.random.seed(0)\n",
        "torch.manual_seed(0)\n",
        "\n",
        "# Theta\n",
        "model = nn.Sequential(\n",
        "    nn.Linear(10, 10),\n",
        "    nn.ReLU(),\n",
        "    nn.Linear(10, 10),\n",
        "    nn.ReLU(),\n",
        "    nn.Linear(10, 1))\n",
        "\n",
        "# Meta parameter\n",
        "meta_parameter = nn.Parameter(- 100 * torch.ones(1), requires_grad=False)\n",
        "\n",
        "# Loss to minimize\n",
        "criterion = nn.MSELoss(reduction='none')\n",
        "\n",
        "# Otimizer\n",
        "opt  = optim.Adam(model.parameters(), lr=1e-4)\n",
        "\n",
        "loss_data = [] # to plot loss values\n",
        "for e in range(50000):\n",
        "    \n",
        "    # Get data\n",
        "    x = torch.randn(32, 10)\n",
        "    \n",
        "    # Get Targets\n",
        "    y = get_targets(x)\n",
        "  \n",
        "    # Predict targets with model - forward pass\n",
        "    output = model(x)\n",
        "    \n",
        "    # Compute loss - we randomly add a term between 0 and meta_parameter, \n",
        "    # preventing the model to learn the function accurately\n",
        "    loss = criterion(output.squeeze(1), y + meta_parameter * torch.rand(1)).mean()\n",
        "    loss_data.append(loss.item())\n",
        "    \n",
        "    # Backward pass\n",
        "    opt.zero_grad()\n",
        "    loss.backward()\n",
        "    opt.step() \n",
        "\n",
        "# Plot loss\n",
        "plt.figure()\n",
        "plt.plot(loss_data)\n",
        "plt.title(\"Loss\")"
      ],
      "execution_count": 63,
      "outputs": [
        {
          "output_type": "execute_result",
          "data": {
            "text/plain": [
              "Text(0.5, 1.0, 'Loss')"
            ]
          },
          "metadata": {
            "tags": []
          },
          "execution_count": 63
        },
        {
          "output_type": "display_data",
          "data": {
            "image/png": "[encoded data removed]",
            "text/plain": [
              "<Figure size 432x288 with 1 Axes>"
            ]
          },
          "metadata": {
            "tags": [],
            "needs_background": "light"
          }
        }
      ]
    },
    {
      "cell_type": "markdown",
      "metadata": {
        "id": "1xyxddmruk1l"
      },
      "source": [
        "## Meta gradients\n"
      ]
    },
    {
      "cell_type": "code",
      "metadata": {
        "colab": {
          "base_uri": "https://localhost:8080/",
          "height": 562
        },
        "id": "56fW98iOkPUk",
        "outputId": "f85e08ef-931c-43ea-9586-093106bedc9d"
      },
      "source": [
        "\n",
        "\"\"\"\n",
        "when computing the loss, we will randomly add the term - meta_parameter * torch.rand(1)\n",
        "\n",
        "The initial value for the meta_parameter is -100 but we make it a trainable parmeter.\n",
        "\n",
        "The meta gradient should learn that in order to keep decreasing the loss function,\n",
        "meta_parameter should be 0.0.3 \n",
        "\"\"\"\n",
        "\n",
        "# Theta\n",
        "model = nn.Sequential(\n",
        "    nn.Linear(10, 10),\n",
        "    nn.ReLU(),\n",
        "    nn.Linear(10, 10),\n",
        "    nn.ReLU(),\n",
        "    nn.Linear(10, 1))\n",
        "\n",
        "meta_parameter = torch.tensor(data=[-100], dtype=torch.float32, requires_grad=True)\n",
        "\n",
        "criterion = nn.MSELoss(reduction='none')\n",
        "meta_opt = optim.Adam([meta_parameter], lr=5e-1)\n",
        "opt  = optim.Adam(model.parameters(), lr=1e-4)\n",
        "loss_data = []\n",
        "meta_paramater_data = []\n",
        "\n",
        "for e in range(50000):\n",
        "    \n",
        "    # Get data\n",
        "    x = torch.randn(32, 10)\n",
        "    \n",
        "    # Get Targets\n",
        "    y = get_targets(x)\n",
        "  \n",
        "    # Predict targets with model - forward pass\n",
        "    output = model(x)\n",
        "    \n",
        "    # Compute loss\n",
        "    loss = criterion(output.squeeze(1), y + meta_parameter * torch.rand(1)).mean()\n",
        "    loss_data.append(loss.item())\n",
        "    \n",
        "    # Backward pass\n",
        "    opt.zero_grad()\n",
        "    loss.backward()\n",
        "    opt.step() # theta' = theta + f(weights)\n",
        "\n",
        "    # Meta forward pass\n",
        "    output = model(x) # y = model(theta', x)\n",
        "\n",
        "    # Meta loss - is this loss correct ?\n",
        "    meta_loss = criterion(output.squeeze(1), y + meta_parameter * torch.rand(1)).mean()\n",
        "\n",
        "    # Meta backward pass  \n",
        "    meta_opt.zero_grad()\n",
        "    meta_loss.backward()\n",
        "    meta_opt.step()\n",
        "    meta_paramater_data.append(meta_parameter.item())\n",
        "  \n",
        "# Plot loss\n",
        "plt.figure()\n",
        "plt.plot(loss_data)\n",
        "plt.title(\"Loss\")\n",
        "plt.figure()\n",
        "plt.plot(meta_paramater_data)\n",
        "plt.title(\"Meta parameter\")"
      ],
      "execution_count": 64,
      "outputs": [
        {
          "output_type": "execute_result",
          "data": {
            "text/plain": [
              "Text(0.5, 1.0, 'Meta parameter')"
            ]
          },
          "metadata": {
            "tags": []
          },
          "execution_count": 64
        },
        {
          "output_type": "display_data",
          "data": {
            "image/png": "[encoded data removed]",
            "text/plain": [
              "<Figure size 432x288 with 1 Axes>"
            ]
          },
          "metadata": {
            "tags": [],
            "needs_background": "light"
          }
        },
        {
          "output_type": "display_data",
          "data": {
            "image/png": "[encoded data removed]",
            "text/plain": [
              "<Figure size 432x288 with 1 Axes>"
            ]
          },
          "metadata": {
            "tags": [],
            "needs_background": "light"
          }
        }
      ]
    },
    {
      "cell_type": "code",
      "metadata": {
        "id": "uduCcGuj02VU"
      },
      "source": [
        ""
      ],
      "execution_count": null,
      "outputs": []
    }
  ]
}